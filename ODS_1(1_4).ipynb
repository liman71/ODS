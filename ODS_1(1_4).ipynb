{
  "nbformat": 4,
  "nbformat_minor": 0,
  "metadata": {
    "colab": {
      "name": "ODS_1(1-4).ipynb",
      "provenance": [],
      "authorship_tag": "ABX9TyPkji9klg2dxFHgGaqAywbG",
      "include_colab_link": true
    },
    "kernelspec": {
      "name": "python3",
      "display_name": "Python 3"
    },
    "language_info": {
      "name": "python"
    }
  },
  "cells": [
    {
      "cell_type": "markdown",
      "metadata": {
        "id": "view-in-github",
        "colab_type": "text"
      },
      "source": [
        "<a href=\"https://colab.research.google.com/github/liman71/ODS/blob/main/ODS_1(1_4).ipynb\" target=\"_parent\"><img src=\"https://colab.research.google.com/assets/colab-badge.svg\" alt=\"Open In Colab\"/></a>"
      ]
    },
    {
      "cell_type": "code",
      "execution_count": null,
      "metadata": {
        "id": "zxWc7d-TxwCi"
      },
      "outputs": [],
      "source": [
        "x = 1_000_000_002 \n",
        "sum = 0\n",
        "for num in range(1, x+1): # \"в лоб\" по заданию \n",
        "    if num % 3 == 0 and  num % 10 != 4 and num % 10 != 7:\n",
        "          sum += num\n",
        "print(sum)"
      ]
    },
    {
      "cell_type": "code",
      "source": [
        "x = 1_000_000_002 \n",
        "sum = 0\n",
        "for num in range(3, x+1, 3): # оптимально по времени, коду и математике \n",
        "    if  num % 10 != 4 and num % 10 != 7:\n",
        "        sum += num\n",
        "print(sum)"
      ],
      "metadata": {
        "id": "LMqNARPbtPZ-"
      },
      "execution_count": null,
      "outputs": []
    },
    {
      "cell_type": "code",
      "source": [
        "# самый быстрый по работе, длинный по математике и коду\n",
        "a1 = 3\n",
        "an = 1_000_000_002\n",
        "d = 3\n",
        "d_4_7 = 30\n",
        "\n",
        "n1 = (an - a1)//d + 1\n",
        "sn1 = (a1 + an)*n1/2\n",
        "\n",
        "a4 = 24\n",
        "n4 = (an - a4)//d_4_7 + 1\n",
        "sn4 = (2*a4+(n4-1)*d_4_7)*n4/2\n",
        "\n",
        "a7 = 27\n",
        "n7 = (an - a7)//30 + 1\n",
        "sn7 = (2*a7+(n7-1)*d_4_7)*n7/2\n",
        "sn = sn1 - sn4 - sn7\n",
        "print(int(sn))\n"
      ],
      "metadata": {
        "id": "HtDAYgytc1E9"
      },
      "execution_count": null,
      "outputs": []
    },
    {
      "cell_type": "code",
      "source": [
        "from google.colab import drive\n",
        "drive.mount('/gdrive' )"
      ],
      "metadata": {
        "colab": {
          "base_uri": "https://localhost:8080/"
        },
        "id": "3P4jPzlokrVH",
        "outputId": "c2151542-f050-46bd-bcac-f0d29e582c38"
      },
      "execution_count": 2,
      "outputs": [
        {
          "output_type": "stream",
          "name": "stdout",
          "text": [
            "Mounted at /gdrive\n"
          ]
        }
      ]
    },
    {
      "cell_type": "code",
      "source": [
        "rezult = []\n",
        "with open(\"/gdrive/My Drive/ODS/test_input_file_1.txt\", \"r\") as file1:\n",
        "    while True:\n",
        "        line = file1.readline()\n",
        "        if not line:\n",
        "            break\n",
        "        data = line.split()\n",
        "        res = eval(' '.join([data[1], data[0], data[2]]))\n",
        "        rezult.append(res)\n",
        "text_str = (str(rezult).strip('[]'))\n",
        "with open(\"/gdrive/My Drive/ODS/test_output_file_1.txt\", \"w\") as file2:\n",
        "  file2.write(text_str)\n",
        "with open(\"/gdrive/My Drive/ODS/test_output_file_1.txt\", \"r\") as file2:\n",
        "  l = file2.read()\n",
        "print(set(l))\n",
        "print(l)"
      ],
      "metadata": {
        "id": "WKvMJRSB0rE6"
      },
      "execution_count": null,
      "outputs": []
    },
    {
      "cell_type": "code",
      "source": [
        "rezult = []\n",
        "with open(\"/gdrive/My Drive/ODS/input_file.txt\", \"r\") as file1:\n",
        "    while True:\n",
        "        line = file1.readline()\n",
        "        if not line:\n",
        "            break\n",
        "        data = line.split()\n",
        "        res = eval(' '.join([data[1], data[0], data[2]]))\n",
        "        rezult.append(res)\n",
        "text_str = (str(rezult).strip('[]'))\n",
        "with open(\"/gdrive/My Drive/ODS/output_file.txt\", \"w\") as file2:\n",
        "  file2.write(text_str)\n",
        "with open(\"/gdrive/My Drive/ODS/output_file.txt\", \"r\") as file2:\n",
        "  l = file2.read()\n",
        "print(set(l))\n",
        "print(l)"
      ],
      "metadata": {
        "id": "M0fFhlV_H7FX"
      },
      "execution_count": null,
      "outputs": []
    },
    {
      "cell_type": "code",
      "source": [
        "rezult = []\n",
        "with open(\"/gdrive/My Drive/ODS/test_import_file_2_2.txt\", \"r\") as file1:\n",
        "    while True:\n",
        "        line = file1.readline()\n",
        "        if not line:\n",
        "            break\n",
        "        data = line.split()\n",
        "        res = eval(' '.join([data[1], data[0], data[2]]))\n",
        "        rezult.append(res)\n",
        "text_str = (str(rezult).strip('[]'))\n",
        "with open(\"/gdrive/My Drive/ODS/output_file.txt\", \"w\") as file2:\n",
        "  file2.write(text_str)\n",
        "with open(\"/gdrive/My Drive/ODS/output_file.txt\", \"r\") as file2:\n",
        "  l = file2.read()\n",
        "print(set(l))\n",
        "print(l)"
      ],
      "metadata": {
        "id": "SNGX7OJOQ2zC"
      },
      "execution_count": null,
      "outputs": []
    },
    {
      "cell_type": "code",
      "source": [
        "rezult = []\n",
        "with open(\"/gdrive/My Drive/ODS/test_import_file_2_1.txt\") as f_text, open(\"/gdrive/My Drive/ODS/test_import_file_2_2.txt\") as f_data:\n",
        "    for line in f_text:\n",
        "        split_ = f_data.readline().split()\n",
        "        text_line =  line[int(split_[0]):int(split_[1])+1]\n",
        "        rezult.append(text_line)\n",
        "text_str = ' '.join(rezult).strip('[]')\n",
        "print(text_str)\n",
        "\n",
        "with open(\"/gdrive/My Drive/ODS/output_file2.txt\", \"w\") as file2:\n",
        "  file2.write(text_str)\n",
        "with open(\"/gdrive/My Drive/ODS/output_file2.txt\", \"r\") as file2:\n",
        "  l = file2.read()\n",
        "print(l)\n"
      ],
      "metadata": {
        "id": "8A4Qh7EoW7fs"
      },
      "execution_count": null,
      "outputs": []
    },
    {
      "cell_type": "code",
      "source": [
        "rezult = []\n",
        "with open(\"/gdrive/My Drive/ODS/import_file_2_1.txt\") as f_text, open(\"/gdrive/My Drive/ODS/import_file_2_2.txt\") as f_data:\n",
        "    for line in f_text:\n",
        "        split_ = f_data.readline().split()\n",
        "        text_line =  line[int(split_[0]):int(split_[1])+1]\n",
        "        rezult.append(text_line)\n",
        "text_str = ' '.join(rezult).strip('[]')\n",
        "\n",
        "with open(\"/gdrive/My Drive/ODS/output_file2_1.txt\", \"w\") as file2:\n",
        "  file2.write(text_str)\n",
        "with open(\"/gdrive/My Drive/ODS/output_file2_1.txt\", \"r\") as file2:\n",
        "  l = file2.read()\n",
        "print(l)"
      ],
      "metadata": {
        "id": "VQJvwbWbItmf"
      },
      "execution_count": null,
      "outputs": []
    },
    {
      "cell_type": "code",
      "source": [
        "import re\n",
        "import json\n",
        "periodic_table = json.load(open('/gdrive/My Drive/ODS/periodic_table.json')) \n",
        "rezult = [] \n",
        "with open(\"/gdrive/My Drive/ODS/import_file_3.txt\") as f_text:\n",
        "  line = f_text.readline() \n",
        "  split_ = re.sub(r'([A-Z])', r' \\1', line).split() \n",
        "for n in split_:\n",
        "  simbol1 = periodic_table.get(n) \n",
        "  rezult.append(simbol1) \n",
        "text_str = ''.join(rezult).strip('[]') \n",
        "print(text_str)"
      ],
      "metadata": {
        "colab": {
          "base_uri": "https://localhost:8080/"
        },
        "id": "IYKh-XMp03nY",
        "outputId": "4f490d8d-b8d6-436f-ee21-04e2b5fd823c"
      },
      "execution_count": 4,
      "outputs": [
        {
          "output_type": "stream",
          "name": "stdout",
          "text": [
            "ХромКобальтРадийЛитийБорийМарганецМенделевийСамарийНихонийСвинецКальцийУранУранМолибденИридийПолонийЕвропийУглеродПрометийПолонийРубидийПлутонийОсмийЛоуренсийАргонКюрийПалладийЦерийАзотБерклийБарийЛантанМедьМышьякКалифорнийПразеодимКадмийБарийНеодимАлюминийАлюминийРутенийБарийТаллийФлеровийУнуненнийТеннессинРадонЦерийХромГафнийПрометийЛантанСвинецМенделевийКалифорнийБромБерклийПразеодимГадолинийЭйнштейнийУранКалифорнийНеонМагнийСамарийЛантанБорийЛютецийДармштадтийМолибденСамарийАлюминийКислородСвинецДубнийМедьЦерийЭйнштейнийЭйнштейнийКсенонКальцийМенделевийГелийСурьмаЛиверморийТорийАстатФторРутенийНиобийПразеодимЛитийМедьЛантанНикельИттербийМенделевийХлорАргонПрометийАктинийТулийГадолинийАстатЛиверморийСтронцийНеодимСкандийТулийФторМагнийУнуненнийТеннессинПалладийБромСамарийРутенийКислородТеллурАктинийЛютецийХассийТулийУнуненнийИттербийМарганецУглеродГафнийДиспрозийСвинецРадийСеленПрометийГафнийАлюминийКалийАзотИттрийРтутьПразеодимКсенонВольфрамВодородТеннессинАстатХассийГерманийМышьякРазерфордийПолонийТаллийСераМолибденЛиверморийРтутьМосковийРутенийУглеродТеннессинЛоуренсийХассийПолонийРодийИттербийМышьякЭрбийТулийЙодТитанАлюминийСиборгийАзотФторВанадийНептунийМедьКадмийСамарийАстатЖелезоНеодимГалийФторЛитийБромИндийБорийОсмийЕвропийНиобийЛитийИридийФлеровийМолибденФлеровийМедьЛантанМосковийКалийСеленНикельКадмийКюрийМышьякСераСеленТулийФранцийПолонийНикельТеллурСтронцийМолибденЭрбийПлатинаНобелийВанадийИндийГадолинийТулийТитанОсмийПразеодимБорийКюрийАмерицийКислородСиборгийСтронцийСтронцийТеллурНатрийСкандийКремнийЭрбийРубидийПразеодимТеллурХлорПолонийАргонСамарийАргонЛютецийОловоСтронцийЗолотоФосфорГафнийТанталНептунийОганесонАргонКоперницийДиспрозийЛантанСамарийКобальтСурьмаКремнийБорийТербийТербийКюрийСераЭрбийИттербийКобальтБорийЭйнштейнийКальцийЭрбийГольмийГелийАлюминийТеннессинХлорРадийБериллийРубидийРенийГольмийТулийОловоТехнецийГадолинийБерклийЖелезоНептунийКальцийНикельНобелийТаллийМагнийМагнийЛантанНиобийНикельАстатМейтнерийРадийНиобийОганесонХлорДармштадтийКриптонГелийТербийРадийФосфорКадмийАзотЛитийПалладийБромЦинкЦинкБерклийКремнийЙодЦерийВисмутВисмутКалийБорЭрбийФранцийБерклийКсенонЦинкГадолинийЭрбийНеонРенгенийГалийРенгенийГелийРенгенийФермийКоперницийТаллийРтутьГалийНиобийНихонийПалладийЛоуренсийКалийНатрийКриптонКоперницийАмерицийЭрбийГерманийГадолинийТорийТулийУглеродСеленРенгенийБорийДубнийДиспрозийВольфрамКалифорнийСамарийФлеровийБорНеонКислородБерклийПрометийУнуненнийПразеодимКоперницийЦерийТитанБерклийФторУнуненнийКадмийКислородИттербийИттербийЛитийЕвропийЭйнштейнийБерклийРтутьГадолинийЛитийМосковийНептунийИттрийГафнийХлорЖелезоМейтнерийКальцийКсенонНикельЭрбийРенгенийГольмийНикельТербийРадийЙодМедьТулийМагнийКобальтМагнийКадмийБорийЦерийКоперницийНеонУранАргонФранцийВанадийЭрбийРодийЗолотоНептунийНептунийНептунийГерманийКоперницийЛиверморийЛантанСтронцийИридийЛютецийКалифорнийИттербийФлеровийАктинийУранКалифорнийИндийБорСурьмаАмерицийСтронцийБромКобальтВанадийКремнийИндийСамарийОсмийТеллурПлатинаМолибденРазерфордийЦинкТанталВодородПалладийСеленЗолотоВанадийМышьякРтутьТеллурКсенонМагнийНиобийУнуненнийМейтнерийИттрийДубнийКислородГадолинийКриптонКсенонФермийФторГафнийРадонГелийМолибденДармштадтийКоперницийМейтнерийОсмийВисмутПолонийСтронцийАзотПалладийРенгенийКриптонКалийКриптонГафнийФтор\n"
          ]
        }
      ]
    }
  ]
}